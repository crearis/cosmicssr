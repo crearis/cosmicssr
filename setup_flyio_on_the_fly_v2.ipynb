{
  "nbformat": 4,
  "nbformat_minor": 0,
  "metadata": {
    "colab": {
      "provenance": [],
      "include_colab_link": true
    },
    "kernelspec": {
      "name": "python3",
      "display_name": "Python 3"
    },
    "language_info": {
      "name": "python"
    }
  },
  "cells": [
    {
      "cell_type": "markdown",
      "metadata": {
        "id": "view-in-github",
        "colab_type": "text"
      },
      "source": [
        "<a href=\"https://colab.research.google.com/github/crearis/cosmicssr/blob/master/setup_flyio_on_the_fly_v2.ipynb\" target=\"_parent\"><img src=\"https://colab.research.google.com/assets/colab-badge.svg\" alt=\"Open In Colab\"/></a>"
      ]
    },
    {
      "cell_type": "markdown",
      "source": [
        "- Initial version 7th Feb. 2024"
      ],
      "metadata": {
        "id": "AzLlAcLFRO5A"
      }
    },
    {
      "cell_type": "code",
      "execution_count": 6,
      "metadata": {
        "id": "z1x8DQpa9opC",
        "outputId": "d58d76e6-131d-49e5-eca3-acc05383fff5",
        "colab": {
          "base_uri": "https://localhost:8080/"
        }
      },
      "outputs": [
        {
          "output_type": "stream",
          "name": "stdout",
          "text": [
            "  % Total    % Received % Xferd  Average Speed   Time    Time     Time  Current\n",
            "                                 Dload  Upload   Total   Spent    Left  Speed\n",
            "100  1735    0  1735    0     0   4692      0 --:--:-- --:--:-- --:--:--  4701\n",
            "############################################################################################# 100.0%\n",
            "set update channel to shell\n",
            "flyctl was installed successfully to /root/.fly/bin/flyctl\n",
            "Run 'flyctl --help' to get started\n",
            "############################################################################################# 100.0%\n",
            "Archive:  /root/.deno/bin/deno.zip\n",
            "  inflating: /root/.deno/bin/deno    \n",
            "Deno was installed successfully to /root/.deno/bin/deno\n",
            "sh: 92: cannot open /dev/tty: No such device or address\n",
            "Hit:1 https://cloud.r-project.org/bin/linux/ubuntu jammy-cran40/ InRelease\n",
            "Hit:2 https://developer.download.nvidia.com/compute/cuda/repos/ubuntu2204/x86_64  InRelease\n",
            "Hit:3 http://archive.ubuntu.com/ubuntu jammy InRelease\n",
            "Hit:4 http://archive.ubuntu.com/ubuntu jammy-updates InRelease\n",
            "Hit:5 http://security.ubuntu.com/ubuntu jammy-security InRelease\n",
            "Ign:6 https://r2u.stat.illinois.edu/ubuntu jammy InRelease\n",
            "Hit:7 http://archive.ubuntu.com/ubuntu jammy-backports InRelease\n",
            "Hit:8 https://r2u.stat.illinois.edu/ubuntu jammy Release\n",
            "Hit:10 https://ppa.launchpadcontent.net/deadsnakes/ppa/ubuntu jammy InRelease\n",
            "Hit:11 https://ppa.launchpadcontent.net/graphics-drivers/ppa/ubuntu jammy InRelease\n",
            "Hit:12 https://ppa.launchpadcontent.net/ubuntugis/ppa/ubuntu jammy InRelease\n",
            "Reading package lists... Done\n",
            "Building dependency tree... Done\n",
            "Reading state information... Done\n",
            "49 packages can be upgraded. Run 'apt list --upgradable' to see them.\n",
            "\u001b[1;33mW: \u001b[0mSkipping acquire of configured file 'main/source/Sources' as repository 'https://r2u.stat.illinois.edu/ubuntu jammy InRelease' does not seem to provide it (sources.list entry misspelt?)\u001b[0m\n",
            "Reading package lists... Done\n",
            "Building dependency tree... Done\n",
            "Reading state information... Done\n",
            "jq is already the newest version (1.6-2.1ubuntu3).\n",
            "0 upgraded, 0 newly installed, 0 to remove and 49 not upgraded.\n",
            "env: PATH=/root/.fly/bin:/root/.deno/bin/:/root/.fly/bin:/root/.deno/bin/:/opt/bin:/usr/local/nvidia/bin:/usr/local/cuda/bin:/usr/local/sbin:/usr/local/bin:/usr/sbin:/usr/bin:/sbin:/bin:/tools/node/bin:/tools/google-cloud-sdk/bin\n",
            "Cloning into 'obsidian-livesync'...\n",
            "remote: Enumerating objects: 3451, done.\u001b[K\n",
            "remote: Counting objects: 100% (1350/1350), done.\u001b[K\n",
            "remote: Compressing objects: 100% (506/506), done.\u001b[K\n",
            "remote: Total 3451 (delta 923), reused 973 (delta 844), pack-reused 2101 (from 1)\u001b[K\n",
            "Receiving objects: 100% (3451/3451), 4.03 MiB | 18.08 MiB/s, done.\n",
            "Resolving deltas: 100% (2584/2584), done.\n",
            "Submodule 'src/lib' (https://github.com/vrtmrz/livesync-commonlib) registered for path 'src/lib'\n",
            "Cloning into '/content/obsidian-livesync/utils/flyio/obsidian-livesync/src/lib'...\n",
            "remote: Enumerating objects: 1104, done.        \n",
            "remote: Counting objects: 100% (192/192), done.        \n",
            "remote: Compressing objects: 100% (57/57), done.        \n",
            "remote: Total 1104 (delta 136), reused 135 (delta 135), pack-reused 912 (from 1)        \n",
            "Receiving objects: 100% (1104/1104), 443.26 KiB | 10.07 MiB/s, done.\n",
            "Resolving deltas: 100% (765/765), done.\n",
            "Submodule path 'src/lib': checked out '3108e3e3dba518d4dd85c18982bb2bab7ecee9ee'\n"
          ]
        }
      ],
      "source": [
        "# Install prerequesties\n",
        "!curl -L https://fly.io/install.sh | sh\n",
        "!curl -fsSL https://deno.land/x/install/install.sh | sh\n",
        "!apt update && apt -y install jq\n",
        "import os\n",
        "%env PATH=/root/.fly/bin:/root/.deno/bin/:{os.environ[\"PATH\"]}\n",
        "!git clone --recursive https://github.com/vrtmrz/obsidian-livesync"
      ]
    },
    {
      "cell_type": "code",
      "source": [
        "# Login up sign up\n",
        "!flyctl auth signup"
      ],
      "metadata": {
        "id": "mGN08BaFDviy",
        "outputId": "37e6e00c-9eff-42f6-b4a2-389fff53baa2",
        "colab": {
          "base_uri": "https://localhost:8080/"
        }
      },
      "execution_count": 2,
      "outputs": [
        {
          "output_type": "stream",
          "name": "stdout",
          "text": [
            "failed opening browser. Copy the url (https://fly.io/app/auth/cli/74723778616a6e746162667a6f756866756d746d687866353764646e6572686c) into a browser and continue\n",
            "Opening \u001b[0;1;39mhttps://fly.io/app/auth/cli/74723778616a6e746162667a6f756866756d746d687866353764646e6572686c\u001b[0m ...\n",
            "\n",
            "\u001b[KWaiting for session... Done\n",
            "successfully logged in as \u001b[0;1;39mhans.doenitz@dasei.eu\u001b[0m\n"
          ]
        }
      ]
    },
    {
      "cell_type": "markdown",
      "source": [
        "Select a region and execute the block."
      ],
      "metadata": {
        "id": "BBFTFOP6vA8m"
      }
    },
    {
      "cell_type": "code",
      "source": [
        "# see https://fly.io/docs/reference/regions/\n",
        "region = \"ams/Amsterdam, Netherlands\" #@param [\"ams/Amsterdam, Netherlands\",\"arn/Stockholm, Sweden\",\"atl/Atlanta, Georgia (US)\",\"bog/Bogotá, Colombia\",\"bos/Boston, Massachusetts (US)\",\"cdg/Paris, France\",\"den/Denver, Colorado (US)\",\"dfw/Dallas, Texas (US)\",\"ewr/Secaucus, NJ (US)\",\"eze/Ezeiza, Argentina\",\"gdl/Guadalajara, Mexico\",\"gig/Rio de Janeiro, Brazil\",\"gru/Sao Paulo, Brazil\",\"hkg/Hong Kong, Hong Kong\",\"iad/Ashburn, Virginia (US)\",\"jnb/Johannesburg, South Africa\",\"lax/Los Angeles, California (US)\",\"lhr/London, United Kingdom\",\"mad/Madrid, Spain\",\"mia/Miami, Florida (US)\",\"nrt/Tokyo, Japan\",\"ord/Chicago, Illinois (US)\",\"otp/Bucharest, Romania\",\"phx/Phoenix, Arizona (US)\",\"qro/Querétaro, Mexico\",\"scl/Santiago, Chile\",\"sea/Seattle, Washington (US)\",\"sin/Singapore, Singapore\",\"sjc/San Jose, California (US)\",\"syd/Sydney, Australia\",\"waw/Warsaw, Poland\",\"yul/Montreal, Canada\",\"yyz/Toronto, Canada\" ] {allow-input: true}\n",
        "%env region={region.split(\"/\")[0]}\n",
        "#%env appame=\n",
        "#%env username=\n",
        "#%env password=\n",
        "#%env database=\n",
        "#%env passphrase=\n",
        "\n",
        "# automatic setup leave it  -->\n",
        "%cd obsidian-livesync/utils/flyio\n",
        "!./deploy-server.sh | tee deploy-result.txt\n",
        "\n",
        "## Show result button\n",
        "from IPython.display import HTML\n",
        "last_line=\"\"\n",
        "with open('deploy-result.txt', 'r') as f:\n",
        "  last_line = f.readlines()[-1]\n",
        "  last_line = str.strip(last_line)\n",
        "\n",
        "if last_line.startswith(\"obsidian://\"):\n",
        "  result = HTML(f\"Copy your setup-URI with this button! -&gt; <button onclick=\\\"navigator.clipboard.writeText('{last_line}')\\\">Copy setup uri</button><br>Importing passphrase is `welcome`. <br>If you want to synchronise in live mode, please apply a preset after ensuring the imported configuration works.\")\n",
        "else:\n",
        "  result = \"Failed to encrypt the setup URI\"\n",
        "result"
      ],
      "metadata": {
        "id": "TNl0A603EF9E",
        "outputId": "609d3d70-b05b-4c58-8352-ab09375a4153",
        "colab": {
          "base_uri": "https://localhost:8080/",
          "height": 1000
        }
      },
      "execution_count": 7,
      "outputs": [
        {
          "output_type": "stream",
          "name": "stdout",
          "text": [
            "env: region=ams\n",
            "/content/obsidian-livesync/utils/flyio/obsidian-livesync/utils/flyio\n",
            "-- YOUR CONFIGURATION --\n",
            "URL     : https://rough-surf-29840.fly.dev\n",
            "username: hidden-wave-14668\n",
            "password: bold-pine-24047\n",
            "region  : ams\n",
            "\n",
            "-- START DEPLOYING --> \n",
            "An existing fly.toml file was found\n",
            "Using build strategies '\u001b[33m[the \"couchdb:latest\" docker image]\u001b[0m'. Remove [build] from fly.toml to force a rescan\n",
            "Creating app in /content/obsidian-livesync/utils/flyio/obsidian-livesync/utils/flyio\n",
            "We're about to launch your app on Fly.io. Here's what you're getting:\n",
            "\n",
            "Organization: Hans Dönitz             (fly launch defaults to the personal org)\n",
            "Name:         rough-surf-29840         (specified on the command line)\n",
            "Region:       Amsterdam, Netherlands   (specified on the command line)\n",
            "App Machines: shared-cpu-1x, 256MB RAM (from your fly.toml)\n",
            "Postgres:     <none>                   (not requested)\n",
            "Redis:        <none>                   (not requested)\n",
            "Tigris:       <none>                   (not requested)\n",
            "\n",
            "Created app 'rough-surf-29840' in organization 'personal'\n",
            "Admin URL: https://fly.io/apps/rough-surf-29840\n",
            "Hostname: rough-surf-29840.fly.dev\n",
            "Wrote config file fly.toml\n",
            "Validating /content/obsidian-livesync/utils/flyio/obsidian-livesync/utils/flyio/fly.toml\n",
            "\u001b[32m✓\u001b[0m Configuration is valid\n",
            "Your app is ready! Deploy with `flyctl deploy`\n",
            "Secrets are staged for the first deployment\n",
            "==> Verifying app config\n",
            "--> Verified app config\n",
            "Validating /content/obsidian-livesync/utils/flyio/obsidian-livesync/utils/flyio/fly.toml\n",
            "\u001b[32m✓\u001b[0m Configuration is valid\n",
            "==> Building image\n",
            "Searching for image 'couchdb:latest' remotely...\n",
            "image found: img_nlo94331g1754wxz\n",
            "\n",
            "Watch your deployment at https://fly.io/apps/rough-surf-29840/monitoring\n",
            "\n",
            "Provisioning ips for rough-surf-29840\n",
            "  Dedicated ipv6: 2a09:8280:1::4a:f68:0\n",
            "  Shared ipv4: 66.241.124.173\n",
            "  Add a dedicated ipv4 with: fly ips allocate-v4\n",
            "\n",
            "Creating a 1 GB volume named 'couchdata' for process group 'app'. Use 'fly vol extend' to increase its size\n",
            "This deployment will:\n",
            " * create 1 \"app\" machine\n",
            "\n",
            "> Launching new machine\n",
            "No machines in group app, launching a new machine\n",
            "> Machine 328713e7c5d628 [app] was created\n",
            "✔ Machine 328713e7c5d628 [app] update finished: success\n",
            "Finished launching new machines\n",
            "\n",
            "NOTE: The machines for [app] have services with 'auto_stop_machines = \"stop\"' that will be stopped when idling\n",
            "\n",
            "Checking DNS configuration for rough-surf-29840.fly.dev\n",
            "\n",
            "Visit your newly deployed app at https://rough-surf-29840.fly.dev/\n",
            "-- Configuring CouchDB by REST APIs... -->\n",
            "  % Total    % Received % Xferd  Average Speed   Time    Time     Time  Current\n",
            "                                 Dload  Upload   Total   Spent    Left  Speed\n",
            "100   158  100    12  100   146      6     74  0:00:02  0:00:01  0:00:01    80\n",
            "{\"ok\":true}\n",
            "  % Total    % Received % Xferd  Average Speed   Time    Time     Time  Current\n",
            "                                 Dload  Upload   Total   Spent    Left  Speed\n",
            "100     9  100     3  100     6      4      9 --:--:-- --:--:-- --:--:--    14\n",
            "\"\"\n",
            "  % Total    % Received % Xferd  Average Speed   Time    Time     Time  Current\n",
            "                                 Dload  Upload   Total   Spent    Left  Speed\n",
            "100     9  100     3  100     6      5     11 --:--:-- --:--:-- --:--:--    17\n",
            "\"\"\n",
            "  % Total    % Received % Xferd  Average Speed   Time    Time     Time  Current\n",
            "                                 Dload  Upload   Total   Spent    Left  Speed\n",
            "100    28  100     3  100    25     11     93 --:--:-- --:--:-- --:--:--   104\n",
            "\"\"\n",
            "  % Total    % Received % Xferd  Average Speed   Time    Time     Time  Current\n",
            "                                 Dload  Upload   Total   Spent    Left  Speed\n",
            "100     9  100     3  100     6     11     22 --:--:-- --:--:-- --:--:--    33\n",
            "\"\"\n",
            "  % Total    % Received % Xferd  Average Speed   Time    Time     Time  Current\n",
            "                                 Dload  Upload   Total   Spent    Left  Speed\n",
            "100     9  100     3  100     6     10     21 --:--:-- --:--:-- --:--:--    32\n",
            "\"\"\n",
            "  % Total    % Received % Xferd  Average Speed   Time    Time     Time  Current\n",
            "                                 Dload  Upload   Total   Spent    Left  Speed\n",
            "100    15  100     3  100    12     12     48 --:--:-- --:--:-- --:--:--    60\n",
            "\"\"\n",
            "  % Total    % Received % Xferd  Average Speed   Time    Time     Time  Current\n",
            "                                 Dload  Upload   Total   Spent    Left  Speed\n",
            "100    13  100     3  100    10     12     40 --:--:-- --:--:-- --:--:--    52\n",
            "\"\"\n",
            "  % Total    % Received % Xferd  Average Speed   Time    Time     Time  Current\n",
            "                                 Dload  Upload   Total   Spent    Left  Speed\n",
            "100     9  100     3  100     6     12     25 --:--:-- --:--:-- --:--:--    37\n",
            "\"\"\n",
            "  % Total    % Received % Xferd  Average Speed   Time    Time     Time  Current\n",
            "                                 Dload  Upload   Total   Spent    Left  Speed\n",
            "100    61  100     3  100    58     12    238 --:--:-- --:--:-- --:--:--   251\n",
            "\"\"\n",
            "<-- Configuring CouchDB by REST APIs Done!\n",
            "OK!\n",
            "Setup finished! Also, we can set up Self-hosted LiveSync instantly, by the following setup uri.\n",
            "Passphrase of setup-uri will be printed only one time. Keep it safe!\n",
            "--- configured ---\n",
            "database       : obsidiannotes\n",
            "E2EE passphrase: shy-paper-27292\n",
            "--- setup uri  ---\n",
            "\u001b[0m\u001b[1m\u001b[31merror\u001b[0m: Could not find a matching package for 'npm:octagonal-wheels@0.1.11' in the node_modules directory. Ensure you have all your JSR and npm dependencies listed in your deno.json or package.json, then run `deno install`. Alternatively, turn on auto-install by specifying `\"nodeModulesDir\": \"auto\"` in your deno.json file.\n",
            "    at \u001b[0m\u001b[36mfile:///content/obsidian-livesync/utils/flyio/obsidian-livesync/utils/flyio/generate_setupuri.ts\u001b[0m:\u001b[0m\u001b[33m1\u001b[0m:\u001b[0m\u001b[33m25\u001b[0m\n"
          ]
        },
        {
          "output_type": "execute_result",
          "data": {
            "text/plain": [
              "'Failed to encrypt the setup URI'"
            ],
            "application/vnd.google.colaboratory.intrinsic+json": {
              "type": "string"
            }
          },
          "metadata": {},
          "execution_count": 7
        }
      ]
    },
    {
      "cell_type": "markdown",
      "source": [
        "If you see the `Copy setup URI` button, Congratulations! Your CouchDB is ready to use! Please click the button. And open this on Obsidian.\n",
        "\n",
        "And, you should keep the output to your secret memo.\n",
        "\n"
      ],
      "metadata": {
        "id": "oeIzExnEKhFp"
      }
    },
    {
      "cell_type": "markdown",
      "source": [
        "\n",
        "\n",
        "---\n",
        "\n",
        "\n",
        "If you want to delete this CouchDB instance, you can do it by executing next cell.  \n",
        "If your fly.toml has been gone, access https://fly.io/dashboard and check the existing app."
      ],
      "metadata": {
        "id": "sdQrqOjERN3K"
      }
    },
    {
      "cell_type": "code",
      "source": [
        "!./delete-server.sh"
      ],
      "metadata": {
        "id": "7JMSkNvVIIfg"
      },
      "execution_count": null,
      "outputs": []
    }
  ]
}